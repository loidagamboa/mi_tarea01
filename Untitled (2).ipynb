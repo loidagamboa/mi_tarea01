{
 "cells": [
  {
   "cell_type": "code",
   "execution_count": 1,
   "id": "6c949208-9e63-45c6-b2f3-45c07f641b77",
   "metadata": {},
   "outputs": [
    {
     "name": "stdout",
     "output_type": "stream",
     "text": [
      "18\n"
     ]
    }
   ],
   "source": [
    "n=0 \n",
    "for i in \"Esto es una cadena\": \n",
    "    n+=1 \n",
    "print(n) "
   ]
  },
  {
   "cell_type": "code",
   "execution_count": 2,
   "id": "4bccd416-166a-4fd6-8390-e3852a33aa8c",
   "metadata": {},
   "outputs": [
    {
     "name": "stdout",
     "output_type": "stream",
     "text": [
      "13\n"
     ]
    }
   ],
   "source": [
    "n=0 \n",
    "for i in \"trabajando.pe\": \n",
    "    n+=1 \n",
    "print(n) "
   ]
  },
  {
   "cell_type": "code",
   "execution_count": 3,
   "id": "aee66ac0-87a1-4850-a847-c4f7f252525a",
   "metadata": {},
   "outputs": [
    {
     "name": "stdout",
     "output_type": "stream",
     "text": [
      "['c', 'b', 'a']\n"
     ]
    }
   ],
   "source": [
    "sinduplicados = list(set(['a','b','c','a','c','c'])) \n",
    "print(sinduplicados) "
   ]
  },
  {
   "cell_type": "code",
   "execution_count": 4,
   "id": "01c7dbef-622d-4435-85db-cb2dcb5d0304",
   "metadata": {},
   "outputs": [
    {
     "name": "stdout",
     "output_type": "stream",
     "text": [
      "*\n",
      "**\n",
      "***\n",
      "****\n",
      "*****\n",
      "****\n",
      "***\n",
      "**\n",
      "*\n"
     ]
    }
   ],
   "source": [
    "for i in range(1,10): \n",
    "    if i<=5: \n",
    "        print('*'*i) \n",
    "    else: \n",
    "        i=10-i \n",
    "        print('*'*i) "
   ]
  },
  {
   "cell_type": "code",
   "execution_count": 9,
   "id": "8d260056-8736-4061-8427-d692c8462076",
   "metadata": {},
   "outputs": [],
   "source": [
    "def primo(n): \n",
    "    a=0 \n",
    "    for i in range(1,n+1): \n",
    "        if n%i==0: \n",
    "            a+=1 \n",
    "    if a==2: \n",
    "        print(\"Este numero es primo\") \n",
    "    else: \n",
    "        print(\"Este numero no es primo\")    "
   ]
  },
  {
   "cell_type": "code",
   "execution_count": null,
   "id": "ea15e30e-8492-4b1e-b59c-d33793b58cb0",
   "metadata": {},
   "outputs": [],
   "source": []
  }
 ],
 "metadata": {
  "kernelspec": {
   "display_name": "Python 3 (ipykernel)",
   "language": "python",
   "name": "python3"
  },
  "language_info": {
   "codemirror_mode": {
    "name": "ipython",
    "version": 3
   },
   "file_extension": ".py",
   "mimetype": "text/x-python",
   "name": "python",
   "nbconvert_exporter": "python",
   "pygments_lexer": "ipython3",
   "version": "3.12.7"
  }
 },
 "nbformat": 4,
 "nbformat_minor": 5
}
